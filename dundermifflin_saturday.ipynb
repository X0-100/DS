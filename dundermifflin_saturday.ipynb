{
  "nbformat": 4,
  "nbformat_minor": 0,
  "metadata": {
    "colab": {
      "name": "Untitled0.ipynb",
      "provenance": [],
      "collapsed_sections": [],
      "authorship_tag": "ABX9TyMb0N8fpPCpsC5WMtsP6F58",
      "include_colab_link": true
    },
    "kernelspec": {
      "name": "python3",
      "display_name": "Python 3"
    }
  },
  "cells": [
    {
      "cell_type": "markdown",
      "metadata": {
        "id": "view-in-github",
        "colab_type": "text"
      },
      "source": [
        "<a href=\"https://colab.research.google.com/github/X0-100/KANYE-superpower/blob/master/dundermifflin_saturday.ipynb\" target=\"_parent\"><img src=\"https://colab.research.google.com/assets/colab-badge.svg\" alt=\"Open In Colab\"/></a>"
      ]
    },
    {
      "cell_type": "code",
      "metadata": {
        "id": "B8SH82Rem7AD"
      },
      "source": [
        "# This code will classify images"
      ],
      "execution_count": 2,
      "outputs": []
    },
    {
      "cell_type": "code",
      "metadata": {
        "id": "-BkIOxT2qfVG"
      },
      "source": [
        "# at first a few imports\n",
        "import tensorflow as ts\n",
        "from tensorflow import keras\n",
        "from tensorflow.keras import layers\n",
        "from keras.layers import Dense\n",
        "from keras.layers import Flatten\n",
        "from keras.layers import Conv2D\n",
        "from keras.layers import MaxPool2D\n",
        "from keras.layers import Dropout\n",
        "from keras.utils import to_categorical\n",
        "import numpy as np\n",
        "import matplotlib.pyplot as plt\n",
        "plt.style.use(\"fivethirtyeight\")"
      ],
      "execution_count": 3,
      "outputs": []
    },
    {
      "cell_type": "code",
      "metadata": {
        "id": "b-NknL9Mru7l",
        "outputId": "9a97df1a-4601-4341-9a82-4c5951606363",
        "colab": {
          "base_uri": "https://localhost:8080/"
        }
      },
      "source": [
        "# at second load dataset from cifar10\n",
        "from keras.datasets import cifar10\n",
        "(x_train, y_train), (x_test, y_test) = cifar10.load_data()"
      ],
      "execution_count": 4,
      "outputs": [
        {
          "output_type": "stream",
          "text": [
            "Downloading data from https://www.cs.toronto.edu/~kriz/cifar-10-python.tar.gz\n",
            "170500096/170498071 [==============================] - 4s 0us/step\n"
          ],
          "name": "stdout"
        }
      ]
    },
    {
      "cell_type": "code",
      "metadata": {
        "colab": {
          "base_uri": "https://localhost:8080/"
        },
        "id": "Gfe_wDwDsnZ7",
        "outputId": "65ed901f-c886-4c4c-dd29-36f02087f6e6"
      },
      "source": [
        "# at third know the datatype of x_train, y_train, x_test, y_test\n",
        "print(type(x_train))\n",
        "print(type(y_train))\n",
        "print(type(x_test))\n",
        "print(type(y_test))"
      ],
      "execution_count": 5,
      "outputs": [
        {
          "output_type": "stream",
          "text": [
            "<class 'numpy.ndarray'>\n",
            "<class 'numpy.ndarray'>\n",
            "<class 'numpy.ndarray'>\n",
            "<class 'numpy.ndarray'>\n"
          ],
          "name": "stdout"
        }
      ]
    },
    {
      "cell_type": "code",
      "metadata": {
        "colab": {
          "base_uri": "https://localhost:8080/"
        },
        "id": "QkrfI0lHtnvc",
        "outputId": "d10b1736-77ea-4232-f04d-18ffbffca6d5"
      },
      "source": [
        "# at fourth we would like to know the shape of the numpy arrays\n",
        "print('Shape of x_train: ', x_train.shape)\n",
        "print('Shape of x_train: ', x_train.shape)\n",
        "print('Shape of x_train: ', x_train.shape)\n",
        "print('Shape of x_train: ', x_train.shape)"
      ],
      "execution_count": 6,
      "outputs": [
        {
          "output_type": "stream",
          "text": [
            "Shape of x_train:  (50000, 32, 32, 3)\n",
            "Shape of x_train:  (50000, 32, 32, 3)\n",
            "Shape of x_train:  (50000, 32, 32, 3)\n",
            "Shape of x_train:  (50000, 32, 32, 3)\n"
          ],
          "name": "stdout"
        }
      ]
    }
  ]
}